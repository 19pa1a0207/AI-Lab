{
  "nbformat": 4,
  "nbformat_minor": 0,
  "metadata": {
    "colab": {
      "name": "Untitled4.ipynb",
      "provenance": [],
      "include_colab_link": true
    },
    "kernelspec": {
      "name": "python3",
      "display_name": "Python 3"
    }
  },
  "cells": [
    {
      "cell_type": "markdown",
      "metadata": {
        "id": "view-in-github",
        "colab_type": "text"
      },
      "source": [
        "<a href=\"https://colab.research.google.com/github/19pa1a0207/AI-Lab/blob/master/experiment_1_numpy.ipynb\" target=\"_parent\"><img src=\"https://colab.research.google.com/assets/colab-badge.svg\" alt=\"Open In Colab\"/></a>"
      ]
    },
    {
      "cell_type": "markdown",
      "metadata": {
        "id": "gRXG4RBFlwdM",
        "colab_type": "text"
      },
      "source": [
        "# Experiment No 1:Numpy"
      ]
    },
    {
      "cell_type": "markdown",
      "metadata": {
        "id": "hY1JTntil_gD",
        "colab_type": "text"
      },
      "source": [
        "## 1) Differentways to create a Numpy arrays."
      ]
    },
    {
      "cell_type": "markdown",
      "metadata": {
        "id": "V4M3SoAVDarD",
        "colab_type": "text"
      },
      "source": [
        "###a)Create a numpy array using list"
      ]
    },
    {
      "cell_type": "code",
      "metadata": {
        "id": "ChzUGG9-185U",
        "colab_type": "code",
        "colab": {
          "base_uri": "https://localhost:8080/",
          "height": 34
        },
        "outputId": "63a11682-d78d-4424-fbda-fb53bb4a1f73"
      },
      "source": [
        "import numpy as np\n",
        "a = np.array([2,3,4])\n",
        "print(a)"
      ],
      "execution_count": null,
      "outputs": [
        {
          "output_type": "stream",
          "text": [
            "[2 3 4]\n"
          ],
          "name": "stdout"
        }
      ]
    },
    {
      "cell_type": "markdown",
      "metadata": {
        "id": "ayWwCuxxDozz",
        "colab_type": "text"
      },
      "source": [
        "###b)Create a numpy array using arange"
      ]
    },
    {
      "cell_type": "code",
      "metadata": {
        "id": "mw34UYUa5g4i",
        "colab_type": "code",
        "colab": {
          "base_uri": "https://localhost:8080/",
          "height": 34
        },
        "outputId": "4f49c467-2f5d-4f5c-a3ca-b6df969eefac"
      },
      "source": [
        "b = np.arange(8)\n",
        "print(b)"
      ],
      "execution_count": null,
      "outputs": [
        {
          "output_type": "stream",
          "text": [
            "[0 1 2 3 4 5 6 7]\n"
          ],
          "name": "stdout"
        }
      ]
    },
    {
      "cell_type": "markdown",
      "metadata": {
        "id": "1Or8tzjB9NiW",
        "colab_type": "text"
      },
      "source": [
        "## 2)Add,remove,modify elements in a array"
      ]
    },
    {
      "cell_type": "markdown",
      "metadata": {
        "id": "OoW7Z40B9e3J",
        "colab_type": "text"
      },
      "source": [
        "### a)Add"
      ]
    },
    {
      "cell_type": "code",
      "metadata": {
        "id": "ThQNteJo9pX2",
        "colab_type": "code",
        "colab": {
          "base_uri": "https://localhost:8080/",
          "height": 34
        },
        "outputId": "940a122a-01e1-47ec-b9da-a6aa0fbe13b2"
      },
      "source": [
        "s = np.append(a,[2,5,7])\n",
        "print(s)"
      ],
      "execution_count": null,
      "outputs": [
        {
          "output_type": "stream",
          "text": [
            "[2 3 4 2 5 7]\n"
          ],
          "name": "stdout"
        }
      ]
    },
    {
      "cell_type": "markdown",
      "metadata": {
        "id": "vLVa3XOf-sAo",
        "colab_type": "text"
      },
      "source": [
        "### b)Remove"
      ]
    },
    {
      "cell_type": "code",
      "metadata": {
        "id": "j7ra_A2k-0jo",
        "colab_type": "code",
        "colab": {
          "base_uri": "https://localhost:8080/",
          "height": 34
        },
        "outputId": "265281c0-dbee-4ce0-c02c-b97c0a64ad89"
      },
      "source": [
        "p = np.delete(a,2)\n",
        "print(p)"
      ],
      "execution_count": null,
      "outputs": [
        {
          "output_type": "stream",
          "text": [
            "[2 3]\n"
          ],
          "name": "stdout"
        }
      ]
    },
    {
      "cell_type": "markdown",
      "metadata": {
        "id": "9087cSaD_Si9",
        "colab_type": "text"
      },
      "source": [
        "### c)Modify"
      ]
    },
    {
      "cell_type": "code",
      "metadata": {
        "id": "uaM1MFyI_Z9F",
        "colab_type": "code",
        "colab": {
          "base_uri": "https://localhost:8080/",
          "height": 34
        },
        "outputId": "dd132a26-9f28-4064-8eac-81a0f911cef5"
      },
      "source": [
        "s = np.array([6,4,3,1,9,5])\n",
        "s[s<2]=-1\n",
        "print(s)"
      ],
      "execution_count": null,
      "outputs": [
        {
          "output_type": "stream",
          "text": [
            "[ 6  4  3 -1  9  5]\n"
          ],
          "name": "stdout"
        }
      ]
    },
    {
      "cell_type": "markdown",
      "metadata": {
        "id": "T4DbdcXMBBKv",
        "colab_type": "text"
      },
      "source": [
        "## 3)Arthematic operations on Numpy array."
      ]
    },
    {
      "cell_type": "code",
      "metadata": {
        "id": "fJ_g3D-KBMGx",
        "colab_type": "code",
        "colab": {
          "base_uri": "https://localhost:8080/",
          "height": 845
        },
        "outputId": "af97563d-0b41-4a6b-81bf-b3e290f4d05f"
      },
      "source": [
        " \n",
        "import numpy as np\n",
        "t = np.random.random((3,3))\n",
        "r = np.random.random((3,3))\n",
        "add = np.add(t,r)\n",
        "sub = np.subtract(t,r)\n",
        "mul = np.multiply(t,r)\n",
        "div = np.divide(t,r)\n",
        "mod = np.mod(t,r)\n",
        "pow = np.power(t,r)\n",
        "print(add)\n",
        "print(sub)\n",
        "print(mul)\n",
        "print(div)\n",
        "print(mod)\n",
        "print(pow)"
      ],
      "execution_count": null,
      "outputs": [
        {
          "output_type": "stream",
          "text": [
            "[[0.76401251 0.82651048 1.25357963]\n",
            " [1.39061471 1.36435034 0.90586037]\n",
            " [1.29168783 1.11383564 1.22496453]]\n",
            "[[ 0.02330652  0.53747833  0.30216381]\n",
            " [ 0.52715702 -0.4214822  -0.41243293]\n",
            " [-0.08473014 -0.6020004  -0.42905414]]\n",
            "[[0.14579298 0.09855915 0.37003973]\n",
            " [0.41397869 0.42095115 0.16262052]\n",
            " [0.41531957 0.21955634 0.32911266]]\n",
            "[[1.06293057 4.71915959 1.63518769]\n",
            " [2.22103729 0.5279712  0.37429262]\n",
            " [0.87688312 0.29830079 0.48119795]]\n",
            "[[0.02330652 0.10393012 0.30216381]\n",
            " [0.09542818 0.47143407 0.24671372]\n",
            " [0.60347885 0.25591762 0.3979552 ]]\n",
            "[[0.70803016 0.94619066 0.88736861]\n",
            " [0.98203791 0.51096631 0.39752666]\n",
            " [0.70639831 0.31059788 0.46672292]]\n"
          ],
          "name": "stdout"
        }
      ]
    },
    {
      "cell_type": "markdown",
      "metadata": {
        "id": "yz53FlyfByYG",
        "colab_type": "text"
      },
      "source": [
        "## 4)Slicing and iterating of numpy arrays."
      ]
    },
    {
      "cell_type": "markdown",
      "metadata": {
        "id": "226_Y9KyB7Vd",
        "colab_type": "text"
      },
      "source": [
        "### a)slicing"
      ]
    },
    {
      "cell_type": "code",
      "metadata": {
        "id": "34BRmx6QB5b_",
        "colab_type": "code",
        "colab": {
          "base_uri": "https://localhost:8080/",
          "height": 34
        },
        "outputId": "fea097dc-393d-4c04-b8db-c04edb5ed68c"
      },
      "source": [
        " \n",
        "import numpy as np\n",
        "arr = np.array([7,5,3,9,2,5])\n",
        "print(arr[2:5])"
      ],
      "execution_count": null,
      "outputs": [
        {
          "output_type": "stream",
          "text": [
            "[3 9 2]\n"
          ],
          "name": "stdout"
        }
      ]
    },
    {
      "cell_type": "markdown",
      "metadata": {
        "id": "2Fvm4eaKCK2E",
        "colab_type": "text"
      },
      "source": [
        "### b) iterating"
      ]
    },
    {
      "cell_type": "code",
      "metadata": {
        "id": "kVP_Y1LFCXlV",
        "colab_type": "code",
        "colab": {
          "base_uri": "https://localhost:8080/",
          "height": 121
        },
        "outputId": "d8cd1421-5239-4b6c-f3f5-95648d2c3e3d"
      },
      "source": [
        " \n",
        "for x in arr:\n",
        "  print(x)"
      ],
      "execution_count": null,
      "outputs": [
        {
          "output_type": "stream",
          "text": [
            "7\n",
            "5\n",
            "3\n",
            "9\n",
            "2\n",
            "5\n"
          ],
          "name": "stdout"
        }
      ]
    },
    {
      "cell_type": "markdown",
      "metadata": {
        "id": "VlDIK3I2Chsi",
        "colab_type": "text"
      },
      "source": [
        "## 5)Matrix operation on numpy arrays."
      ]
    },
    {
      "cell_type": "code",
      "metadata": {
        "id": "AWK5TgocCnR9",
        "colab_type": "code",
        "colab": {
          "base_uri": "https://localhost:8080/",
          "height": 121
        },
        "outputId": "7803152d-1b58-4e05-e6d3-49a60b46c289"
      },
      "source": [
        " \n",
        "import numpy as np\n",
        "d = np.array([[4,3],[2,1]])\n",
        "v = np.array([[8,7],[6,5]])\n",
        "print(np.add(d,v))\n",
        "print(np.subtract(d,v))    \n",
        "print(np.divide(d,v))"
      ],
      "execution_count": null,
      "outputs": [
        {
          "output_type": "stream",
          "text": [
            "[[12 10]\n",
            " [ 8  6]]\n",
            "[[-4 -4]\n",
            " [-4 -4]]\n",
            "[[0.5        0.42857143]\n",
            " [0.33333333 0.2       ]]\n"
          ],
          "name": "stdout"
        }
      ]
    }
  ]
}