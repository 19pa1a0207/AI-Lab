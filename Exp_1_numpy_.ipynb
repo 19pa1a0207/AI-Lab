{
  "nbformat": 4,
  "nbformat_minor": 0,
  "metadata": {
    "colab": {
      "name": " Exp_1_numpy .ipynb",
      "provenance": [],
      "collapsed_sections": [],
      "authorship_tag": "ABX9TyOtjfnsisxsfYicd/D+oniu",
      "include_colab_link": true
    },
    "kernelspec": {
      "name": "python3",
      "display_name": "Python 3"
    }
  },
  "cells": [
    {
      "cell_type": "markdown",
      "metadata": {
        "id": "view-in-github",
        "colab_type": "text"
      },
      "source": [
        "<a href=\"https://colab.research.google.com/github/19pa1a0207/AI-Lab/blob/master/Exp_1_numpy_.ipynb\" target=\"_parent\"><img src=\"https://colab.research.google.com/assets/colab-badge.svg\" alt=\"Open In Colab\"/></a>"
      ]
    },
    {
      "cell_type": "markdown",
      "metadata": {
        "id": "jphuM4GrZ395",
        "colab_type": "text"
      },
      "source": [
        "Experiment1:Numpy"
      ]
    },
    {
      "cell_type": "markdown",
      "metadata": {
        "id": "0_YL7g93qxJ_",
        "colab_type": "text"
      },
      "source": [
        "1)Different ways to create a Numpy arrays."
      ]
    },
    {
      "cell_type": "code",
      "metadata": {
        "id": "ZYZE0oBQjhsW",
        "colab_type": "code",
        "colab": {
          "base_uri": "https://localhost:8080/",
          "height": 34
        },
        "outputId": "bb3d8d19-404b-41c6-fe3e-22c085e74387"
      },
      "source": [
        "import numpy as np\n",
        "x = np.array([1,2,3])\n",
        "print(x)"
      ],
      "execution_count": null,
      "outputs": [
        {
          "output_type": "stream",
          "text": [
            "[1 2 3]\n"
          ],
          "name": "stdout"
        }
      ]
    },
    {
      "cell_type": "code",
      "metadata": {
        "id": "t4EFndYOjyY8",
        "colab_type": "code",
        "colab": {
          "base_uri": "https://localhost:8080/",
          "height": 51
        },
        "outputId": "96034325-6601-4519-e1ee-2b292b1294e7"
      },
      "source": [
        "y = np.array([[4,5,6],[7,8,9]])\n",
        "print(y)"
      ],
      "execution_count": null,
      "outputs": [
        {
          "output_type": "stream",
          "text": [
            "[[4 5 6]\n",
            " [7 8 9]]\n"
          ],
          "name": "stdout"
        }
      ]
    },
    {
      "cell_type": "markdown",
      "metadata": {
        "id": "WLECqjmQkBV9",
        "colab_type": "text"
      },
      "source": [
        "2)Add, remove, modify elements in an array."
      ]
    },
    {
      "cell_type": "markdown",
      "metadata": {
        "id": "571Fo3DBYzdG",
        "colab_type": "text"
      },
      "source": [
        "#Add"
      ]
    },
    {
      "cell_type": "code",
      "metadata": {
        "id": "qMbvGel2kbtM",
        "colab_type": "code",
        "colab": {
          "base_uri": "https://localhost:8080/",
          "height": 34
        },
        "outputId": "145d31d3-1291-4aa8-c959-bb2ec707875c"
      },
      "source": [
        "b = np.append(y,[6,4,2])\n",
        "print(b)"
      ],
      "execution_count": null,
      "outputs": [
        {
          "output_type": "stream",
          "text": [
            "[4 5 6 7 8 9 6 4 2]\n"
          ],
          "name": "stdout"
        }
      ]
    },
    {
      "cell_type": "markdown",
      "metadata": {
        "id": "D-9VILk1ZH5Z",
        "colab_type": "text"
      },
      "source": [
        "#Remove"
      ]
    },
    {
      "cell_type": "code",
      "metadata": {
        "id": "69GFtk8zkrsM",
        "colab_type": "code",
        "colab": {
          "base_uri": "https://localhost:8080/",
          "height": 34
        },
        "outputId": "d7f0230c-9bfb-4c9e-af45-7c68cb272fc2"
      },
      "source": [
        "newarray = np.delete(x,2)\n",
        "print(newarray)"
      ],
      "execution_count": null,
      "outputs": [
        {
          "output_type": "stream",
          "text": [
            "[1 2]\n"
          ],
          "name": "stdout"
        }
      ]
    },
    {
      "cell_type": "markdown",
      "metadata": {
        "id": "tSyU5n00ZOr8",
        "colab_type": "text"
      },
      "source": [
        "#Modify"
      ]
    },
    {
      "cell_type": "code",
      "metadata": {
        "id": "4bY3WKWjzdVx",
        "colab_type": "code",
        "colab": {
          "base_uri": "https://localhost:8080/",
          "height": 34
        },
        "outputId": "af88c043-3641-4677-818a-06362a9044ee"
      },
      "source": [
        "b = np.array([6,4,1,3,5,9])\n",
        "b[b<2] = -1\n",
        "print(b)"
      ],
      "execution_count": null,
      "outputs": [
        {
          "output_type": "stream",
          "text": [
            "[ 6  4 -1  3  5  9]\n"
          ],
          "name": "stdout"
        }
      ]
    },
    {
      "cell_type": "markdown",
      "metadata": {
        "id": "MgoSk75zz3Hs",
        "colab_type": "text"
      },
      "source": [
        "3)Arthematic operations on Numpy array"
      ]
    },
    {
      "cell_type": "code",
      "metadata": {
        "id": "sbdc7eqdz9cK",
        "colab_type": "code",
        "colab": {
          "base_uri": "https://localhost:8080/",
          "height": 86
        },
        "outputId": "e15afde6-fe00-44ea-ecaa-d2aaffca376f"
      },
      "source": [
        "import numpy as np\n",
        "s = np.random.random((4,4))\n",
        "r = np.random.random((4,4))\n",
        "sum = np.add(s,r)\n",
        "print(sum)\n"
      ],
      "execution_count": null,
      "outputs": [
        {
          "output_type": "stream",
          "text": [
            "[[0.95746686 0.53000873 0.09149287 0.69591489]\n",
            " [1.20057266 1.00187443 0.80714105 1.76300536]\n",
            " [0.57169605 0.19533788 0.93876407 0.1881297 ]\n",
            " [0.53105356 1.33058666 0.27363351 0.55906882]]\n"
          ],
          "name": "stdout"
        }
      ]
    },
    {
      "cell_type": "code",
      "metadata": {
        "id": "AOe6rIEof7BE",
        "colab_type": "code",
        "colab": {
          "base_uri": "https://localhost:8080/",
          "height": 86
        },
        "outputId": "b2d85b32-46a7-4a95-f116-dba537c10cbe"
      },
      "source": [
        "diff = np.subtract(s,r)\n",
        "print(diff)"
      ],
      "execution_count": null,
      "outputs": [
        {
          "output_type": "stream",
          "text": [
            "[[ 0.03905133  0.40542303 -0.0797136  -0.28710546]\n",
            " [-0.40429899 -0.35819192 -0.26115771 -0.048522  ]\n",
            " [ 0.56445215 -0.08030391  0.93270295 -0.0833267 ]\n",
            " [-0.1413906  -0.48765619 -0.17447006 -0.34061502]]\n"
          ],
          "name": "stdout"
        }
      ]
    },
    {
      "cell_type": "code",
      "metadata": {
        "id": "xplPn7ZOgYL8",
        "colab_type": "code",
        "colab": {
          "base_uri": "https://localhost:8080/",
          "height": 284
        },
        "outputId": "ce2829e3-6816-44e2-bf70-ea399f9b193a"
      },
      "source": [
        "prod = np.multiply(s,r)\n",
        "print(s,r)"
      ],
      "execution_count": null,
      "outputs": [
        {
          "output_type": "stream",
          "text": [
            "[[0.4982591  0.46771588 0.00588964 0.20440471]\n",
            " [0.39813684 0.32184126 0.27299167 0.85724168]\n",
            " [0.5680741  0.05751698 0.93573351 0.0524015 ]\n",
            " [0.19483148 0.42146524 0.04958172 0.1092269 ]] [[0.45920777 0.06229285 0.08560323 0.49151017]\n",
            " [0.80243583 0.68003318 0.53414938 0.90576368]\n",
            " [0.00362195 0.1378209  0.00303056 0.1357282 ]\n",
            " [0.33622208 0.90912142 0.22405178 0.44984192]]\n"
          ],
          "name": "stdout"
        }
      ]
    },
    {
      "cell_type": "code",
      "metadata": {
        "id": "Ht_jx2AVgrfr",
        "colab_type": "code",
        "colab": {
          "base_uri": "https://localhost:8080/",
          "height": 284
        },
        "outputId": "46e81b25-7833-4579-d934-f8e93813f6ea"
      },
      "source": [
        "quo = np.multiply(s,r)\n",
        "print(s,r)"
      ],
      "execution_count": null,
      "outputs": [
        {
          "output_type": "stream",
          "text": [
            "[[0.4982591  0.46771588 0.00588964 0.20440471]\n",
            " [0.39813684 0.32184126 0.27299167 0.85724168]\n",
            " [0.5680741  0.05751698 0.93573351 0.0524015 ]\n",
            " [0.19483148 0.42146524 0.04958172 0.1092269 ]] [[0.45920777 0.06229285 0.08560323 0.49151017]\n",
            " [0.80243583 0.68003318 0.53414938 0.90576368]\n",
            " [0.00362195 0.1378209  0.00303056 0.1357282 ]\n",
            " [0.33622208 0.90912142 0.22405178 0.44984192]]\n"
          ],
          "name": "stdout"
        }
      ]
    },
    {
      "cell_type": "code",
      "metadata": {
        "id": "2CJDpE0uqKag",
        "colab_type": "code",
        "colab": {
          "base_uri": "https://localhost:8080/",
          "height": 86
        },
        "outputId": "0d8ca478-7452-4def-b857-457e3504b1ed"
      },
      "source": [
        "mod = np.mod(s,r)\n",
        "print(mod)"
      ],
      "execution_count": null,
      "outputs": [
        {
          "output_type": "stream",
          "text": [
            "[[0.03905133 0.03166595 0.00588964 0.20440471]\n",
            " [0.39813684 0.32184126 0.27299167 0.85724168]\n",
            " [0.00305017 0.05751698 0.00231978 0.0524015 ]\n",
            " [0.19483148 0.42146524 0.04958172 0.1092269 ]]\n"
          ],
          "name": "stdout"
        }
      ]
    },
    {
      "cell_type": "code",
      "metadata": {
        "id": "rr3PoZKKqSym",
        "colab_type": "code",
        "colab": {
          "base_uri": "https://localhost:8080/",
          "height": 86
        },
        "outputId": "7eb1010e-022d-454f-c085-8717f6b501ef"
      },
      "source": [
        "power = np.power(s,r)\n",
        "print(power)"
      ],
      "execution_count": null,
      "outputs": [
        {
          "output_type": "stream",
          "text": [
            "[[0.72622149 0.9537669  0.64433596 0.45824662]\n",
            " [0.47758606 0.46257273 0.49982681 0.86977592]\n",
            " [0.99795387 0.67464295 0.99979872 0.67016051]\n",
            " [0.57698924 0.45589295 0.51013425 0.36931789]]\n"
          ],
          "name": "stdout"
        }
      ]
    },
    {
      "cell_type": "markdown",
      "metadata": {
        "id": "-T9FPRjv1U28",
        "colab_type": "text"
      },
      "source": [
        "4)Slicing and iterating of numpy arrays.\n",
        "slicing"
      ]
    },
    {
      "cell_type": "code",
      "metadata": {
        "id": "dDkSI5QV1xci",
        "colab_type": "code",
        "colab": {
          "base_uri": "https://localhost:8080/",
          "height": 34
        },
        "outputId": "e3c39219-47d5-4624-f642-3da2cfaf2bcc"
      },
      "source": [
        "import numpy as np\n",
        "arrays = np.array([1,2,3,4,5,6,7])\n",
        "print(arrays[2:4])"
      ],
      "execution_count": null,
      "outputs": [
        {
          "output_type": "stream",
          "text": [
            "[3 4]\n"
          ],
          "name": "stdout"
        }
      ]
    },
    {
      "cell_type": "markdown",
      "metadata": {
        "id": "bHaePHvZ2N3w",
        "colab_type": "text"
      },
      "source": [
        "iterating"
      ]
    },
    {
      "cell_type": "code",
      "metadata": {
        "id": "GmQ3JoXg2RXW",
        "colab_type": "code",
        "colab": {
          "base_uri": "https://localhost:8080/",
          "height": 138
        },
        "outputId": "b428fa93-36c7-4f52-9337-99d57f658cb3"
      },
      "source": [
        "for y in arrays:\n",
        "  print(y)"
      ],
      "execution_count": null,
      "outputs": [
        {
          "output_type": "stream",
          "text": [
            "1\n",
            "2\n",
            "3\n",
            "4\n",
            "5\n",
            "6\n",
            "7\n"
          ],
          "name": "stdout"
        }
      ]
    },
    {
      "cell_type": "markdown",
      "metadata": {
        "id": "ggInq_M82dXK",
        "colab_type": "text"
      },
      "source": [
        "5)Matrix operation on numpy arrays."
      ]
    },
    {
      "cell_type": "code",
      "metadata": {
        "id": "OmvBY7pq2kWM",
        "colab_type": "code",
        "colab": {
          "base_uri": "https://localhost:8080/",
          "height": 121
        },
        "outputId": "0d98db3e-f240-4200-acc3-2d797c989e3c"
      },
      "source": [
        "import numpy as np\n",
        "a = np.array([[3,4],[1,2]])\n",
        "b = np.array([[7,8],[5,6]])\n",
        "print(np.add(a,b))\n",
        "print(np.subtract(a,b))\n",
        "print(np.divide(a,b))"
      ],
      "execution_count": null,
      "outputs": [
        {
          "output_type": "stream",
          "text": [
            "[[10 12]\n",
            " [ 6  8]]\n",
            "[[-4 -4]\n",
            " [-4 -4]]\n",
            "[[0.42857143 0.5       ]\n",
            " [0.2        0.33333333]]\n"
          ],
          "name": "stdout"
        }
      ]
    }
  ]
}